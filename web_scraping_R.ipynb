{
  "nbformat": 4,
  "nbformat_minor": 0,
  "metadata": {
    "colab": {
      "name": "Untitled1.ipynb",
      "provenance": [],
      "toc_visible": true,
      "authorship_tag": "ABX9TyOvFQHBLuW9OSZmOMPT0FAq",
      "include_colab_link": true
    },
    "kernelspec": {
      "name": "ir",
      "display_name": "R"
    }
  },
  "cells": [
    {
      "cell_type": "markdown",
      "metadata": {
        "id": "view-in-github",
        "colab_type": "text"
      },
      "source": [
        "<a href=\"https://colab.research.google.com/github/leandrorodor/PGR-IESB-P9045-CDNA-20203/blob/main/web_scraping_R.ipynb\" target=\"_parent\"><img src=\"https://colab.research.google.com/assets/colab-badge.svg\" alt=\"Open In Colab\"/></a>"
      ]
    },
    {
      "cell_type": "markdown",
      "metadata": {
        "id": "HHMlZA3BqLKD"
      },
      "source": [
        "## Web Scraping com R\n",
        "\n",
        "Requisitos\n",
        "* SelectGadget Chrome Extension (https://chrome.google.com/webstore/detail/selectorgadget/mhjhnkcfbdhnjickkkdbjoemdmbfginb?hl=pt-BR)\n",
        "* R\n",
        "\n",
        "URL\n",
        "* https://www.truckpad.com.br/fretes/\n",
        "\n",
        "Equivalente em Python\n",
        "* BeautifulSoup (https://www.crummy.com/software/BeautifulSoup/bs4/doc/)"
      ]
    },
    {
      "cell_type": "markdown",
      "metadata": {
        "id": "Qn07dBGSpinw"
      },
      "source": [
        "## Utilizando R nativo no Google Colab"
      ]
    },
    {
      "cell_type": "markdown",
      "metadata": {
        "id": "97-DyzuTptdJ"
      },
      "source": [
        "[Clique aqui!](https://colab.research.google.com/notebook#create=true&language=r)"
      ]
    },
    {
      "cell_type": "markdown",
      "metadata": {
        "id": "JiSZ3FoRpw_y"
      },
      "source": [
        "## Verificando versão do R"
      ]
    },
    {
      "cell_type": "code",
      "metadata": {
        "colab": {
          "base_uri": "https://localhost:8080/",
          "height": 272
        },
        "id": "VC5bBfhops1B",
        "outputId": "1d12ae58-353a-47b1-c1c0-19fd9d77b4a7"
      },
      "source": [
        "version"
      ],
      "execution_count": 3,
      "outputs": [
        {
          "output_type": "display_data",
          "data": {
            "text/plain": [
              "               _                           \n",
              "platform       x86_64-pc-linux-gnu         \n",
              "arch           x86_64                      \n",
              "os             linux-gnu                   \n",
              "system         x86_64, linux-gnu           \n",
              "status                                     \n",
              "major          4                           \n",
              "minor          0.4                         \n",
              "year           2021                        \n",
              "month          02                          \n",
              "day            15                          \n",
              "svn rev        80002                       \n",
              "language       R                           \n",
              "version.string R version 4.0.4 (2021-02-15)\n",
              "nickname       Lost Library Book           "
            ]
          },
          "metadata": {
            "tags": []
          }
        }
      ]
    },
    {
      "cell_type": "markdown",
      "metadata": {
        "id": "ST81dD4rruAr"
      },
      "source": [
        "## Definir área de trabalho"
      ]
    },
    {
      "cell_type": "code",
      "metadata": {
        "id": "6Y13XGWBp0BL"
      },
      "source": [
        "setwd(\"/content/sample_data/scraping\")"
      ],
      "execution_count": 5,
      "outputs": []
    },
    {
      "cell_type": "markdown",
      "metadata": {
        "id": "k5-Lt_dcr7L4"
      },
      "source": [
        "## Instalar packages do projeto"
      ]
    },
    {
      "cell_type": "code",
      "metadata": {
        "colab": {
          "base_uri": "https://localhost:8080/"
        },
        "id": "Q-Nlz8yor5O0",
        "outputId": "0c5d61f8-5471-452a-c202-99ca552653f9"
      },
      "source": [
        "install.packages(\"rvest\")\n",
        "install.packages(\"dplyr\")\n",
        "install.packages(\"xml2\")\n",
        "install.packages(\"data.table\")\n",
        "install.packages(\"tidyr\")"
      ],
      "execution_count": 73,
      "outputs": [
        {
          "output_type": "stream",
          "text": [
            "Installing package into ‘/usr/local/lib/R/site-library’\n",
            "(as ‘lib’ is unspecified)\n",
            "\n",
            "Installing package into ‘/usr/local/lib/R/site-library’\n",
            "(as ‘lib’ is unspecified)\n",
            "\n",
            "Installing package into ‘/usr/local/lib/R/site-library’\n",
            "(as ‘lib’ is unspecified)\n",
            "\n",
            "Installing package into ‘/usr/local/lib/R/site-library’\n",
            "(as ‘lib’ is unspecified)\n",
            "\n",
            "Installing package into ‘/usr/local/lib/R/site-library’\n",
            "(as ‘lib’ is unspecified)\n",
            "\n"
          ],
          "name": "stderr"
        }
      ]
    },
    {
      "cell_type": "markdown",
      "metadata": {
        "id": "IccZcGCEtICq"
      },
      "source": [
        "## Carregar bibliotecas necessárias para scraping"
      ]
    },
    {
      "cell_type": "code",
      "metadata": {
        "id": "AG_s5g9CspOE"
      },
      "source": [
        "library(rvest)\n",
        "library(dplyr)\n",
        "library(xml2)\n",
        "library(data.table)\n",
        "library(tidyr)"
      ],
      "execution_count": 74,
      "outputs": []
    },
    {
      "cell_type": "markdown",
      "metadata": {
        "id": "gwroV3hp6aMU"
      },
      "source": [
        "# Modo Básico"
      ]
    },
    {
      "cell_type": "markdown",
      "metadata": {
        "id": "_MD_LU8WuXg_"
      },
      "source": [
        "## Criar variáveis"
      ]
    },
    {
      "cell_type": "code",
      "metadata": {
        "id": "IGxL_073tBm3"
      },
      "source": [
        "link = \"https://www.truckpad.com.br/fretes/\""
      ],
      "execution_count": 21,
      "outputs": []
    },
    {
      "cell_type": "code",
      "metadata": {
        "id": "3npnvnHnuQY1"
      },
      "source": [
        "htmlPage = read_html(link)"
      ],
      "execution_count": 22,
      "outputs": []
    },
    {
      "cell_type": "code",
      "metadata": {
        "colab": {
          "base_uri": "https://localhost:8080/",
          "height": 85
        },
        "id": "B4QDfZWMuVd5",
        "outputId": "b338a8b8-e2c5-428f-8e6a-266e75e322e3"
      },
      "source": [
        "htmlPage"
      ],
      "execution_count": 31,
      "outputs": [
        {
          "output_type": "display_data",
          "data": {
            "text/plain": [
              "{html_document}\n",
              "<html lang=\"pt-BR\">\n",
              "[1] <head>\\n<meta http-equiv=\"Content-Type\" content=\"text/html; charset=UTF-8 ...\n",
              "[2] <body>\\n<noscript><iframe src=\"https://www.googletagmanager.com/ns.html?i ..."
            ]
          },
          "metadata": {
            "tags": []
          }
        }
      ]
    },
    {
      "cell_type": "code",
      "metadata": {
        "id": "lVc8UsAkufNO"
      },
      "source": [
        "origem <- htmlPage %>%\n",
        "  html_nodes(\".route .information:nth-child(1) .information-content\") %>% # não confundir com html_node\n",
        "  html_text()"
      ],
      "execution_count": 36,
      "outputs": []
    },
    {
      "cell_type": "code",
      "metadata": {
        "colab": {
          "base_uri": "https://localhost:8080/",
          "height": 85
        },
        "id": "LI3VhbNqwzXk",
        "outputId": "29005ac3-57f1-4cf4-dd74-e67c71bd8d5f"
      },
      "source": [
        "origem"
      ],
      "execution_count": 37,
      "outputs": [
        {
          "output_type": "display_data",
          "data": {
            "text/plain": [
              " [1] \"SP - Leme\"              \"SP - Campinas\"          \"SP - Suzano\"           \n",
              " [4] \"TO - Lagoa da Confusão\" \"SP - Vinhedo\"           \"GO - Formosa\"          \n",
              " [7] \"PB - Campina Grande\"    \"GO - Anápolis\"          \"SP - Ribeirão Preto\"   \n",
              "[10] \"RS - Bento Gonçalves\"   \"SP - Guarulhos\"         \"SP - Itaquaquecetuba\"  \n",
              "[13] \"SP - São Paulo\"         \"MG - Nova Lima\"         \"MS - Angélica\"         \n",
              "[16] \"MS - Angélica\"          \"MS - Angélica\"          \"MS - Naviraí\"          \n",
              "[19] \"MS - Naviraí\"           \"MS - Naviraí\"          "
            ],
            "text/latex": "\\begin{enumerate*}\n\\item 'SP - Leme'\n\\item 'SP - Campinas'\n\\item 'SP - Suzano'\n\\item 'TO - Lagoa da Confusão'\n\\item 'SP - Vinhedo'\n\\item 'GO - Formosa'\n\\item 'PB - Campina Grande'\n\\item 'GO - Anápolis'\n\\item 'SP - Ribeirão Preto'\n\\item 'RS - Bento Gonçalves'\n\\item 'SP - Guarulhos'\n\\item 'SP - Itaquaquecetuba'\n\\item 'SP - São Paulo'\n\\item 'MG - Nova Lima'\n\\item 'MS - Angélica'\n\\item 'MS - Angélica'\n\\item 'MS - Angélica'\n\\item 'MS - Naviraí'\n\\item 'MS - Naviraí'\n\\item 'MS - Naviraí'\n\\end{enumerate*}\n",
            "text/markdown": "1. 'SP - Leme'\n2. 'SP - Campinas'\n3. 'SP - Suzano'\n4. 'TO - Lagoa da Confusão'\n5. 'SP - Vinhedo'\n6. 'GO - Formosa'\n7. 'PB - Campina Grande'\n8. 'GO - Anápolis'\n9. 'SP - Ribeirão Preto'\n10. 'RS - Bento Gonçalves'\n11. 'SP - Guarulhos'\n12. 'SP - Itaquaquecetuba'\n13. 'SP - São Paulo'\n14. 'MG - Nova Lima'\n15. 'MS - Angélica'\n16. 'MS - Angélica'\n17. 'MS - Angélica'\n18. 'MS - Naviraí'\n19. 'MS - Naviraí'\n20. 'MS - Naviraí'\n\n\n",
            "text/html": [
              "<style>\n",
              ".list-inline {list-style: none; margin:0; padding: 0}\n",
              ".list-inline>li {display: inline-block}\n",
              ".list-inline>li:not(:last-child)::after {content: \"\\00b7\"; padding: 0 .5ex}\n",
              "</style>\n",
              "<ol class=list-inline><li>'SP - Leme'</li><li>'SP - Campinas'</li><li>'SP - Suzano'</li><li>'TO - Lagoa da Confusão'</li><li>'SP - Vinhedo'</li><li>'GO - Formosa'</li><li>'PB - Campina Grande'</li><li>'GO - Anápolis'</li><li>'SP - Ribeirão Preto'</li><li>'RS - Bento Gonçalves'</li><li>'SP - Guarulhos'</li><li>'SP - Itaquaquecetuba'</li><li>'SP - São Paulo'</li><li>'MG - Nova Lima'</li><li>'MS - Angélica'</li><li>'MS - Angélica'</li><li>'MS - Angélica'</li><li>'MS - Naviraí'</li><li>'MS - Naviraí'</li><li>'MS - Naviraí'</li></ol>\n"
            ]
          },
          "metadata": {
            "tags": []
          }
        }
      ]
    },
    {
      "cell_type": "code",
      "metadata": {
        "id": "WKRgEYgQwgsf"
      },
      "source": [
        "destinos <- htmlPage %>%\n",
        "  html_nodes(\".route .information+ .information .information-content\") %>%\n",
        "  html_text()"
      ],
      "execution_count": 38,
      "outputs": []
    },
    {
      "cell_type": "code",
      "metadata": {
        "colab": {
          "base_uri": "https://localhost:8080/",
          "height": 68
        },
        "id": "0FL2-rj-wib9",
        "outputId": "ef7e98e2-1f1b-43a6-9b06-4e3b553de052"
      },
      "source": [
        "destinos"
      ],
      "execution_count": 39,
      "outputs": [
        {
          "output_type": "display_data",
          "data": {
            "text/plain": [
              " [1] \"MG - Uberaba\"        \"SP - São Paulo\"      \"MS - Campo Grande\"  \n",
              " [4] \"MG - Uberlândia\"     \"AC - Rio Branco\"     \"MG - Betim\"         \n",
              " [7] \"SP - Guarulhos\"      \"SP - Leme\"           \"MG - Indianópolis\"  \n",
              "[10] \"PR - Maringá\"        \"PE - Recife\"         \"ES - Serra\"         \n",
              "[13] \"RJ - Rio de Janeiro\" \"MG - Jaíba\"          \"PR - Guarapuava\"    \n",
              "[16] \"PR - Guarapuava\"     \"PR - Guarapuava\"     \"PR - Tapejara\"      \n",
              "[19] \"PR - Tapejara\"       \"PR - Tapejara\"      "
            ],
            "text/latex": "\\begin{enumerate*}\n\\item 'MG - Uberaba'\n\\item 'SP - São Paulo'\n\\item 'MS - Campo Grande'\n\\item 'MG - Uberlândia'\n\\item 'AC - Rio Branco'\n\\item 'MG - Betim'\n\\item 'SP - Guarulhos'\n\\item 'SP - Leme'\n\\item 'MG - Indianópolis'\n\\item 'PR - Maringá'\n\\item 'PE - Recife'\n\\item 'ES - Serra'\n\\item 'RJ - Rio de Janeiro'\n\\item 'MG - Jaíba'\n\\item 'PR - Guarapuava'\n\\item 'PR - Guarapuava'\n\\item 'PR - Guarapuava'\n\\item 'PR - Tapejara'\n\\item 'PR - Tapejara'\n\\item 'PR - Tapejara'\n\\end{enumerate*}\n",
            "text/markdown": "1. 'MG - Uberaba'\n2. 'SP - São Paulo'\n3. 'MS - Campo Grande'\n4. 'MG - Uberlândia'\n5. 'AC - Rio Branco'\n6. 'MG - Betim'\n7. 'SP - Guarulhos'\n8. 'SP - Leme'\n9. 'MG - Indianópolis'\n10. 'PR - Maringá'\n11. 'PE - Recife'\n12. 'ES - Serra'\n13. 'RJ - Rio de Janeiro'\n14. 'MG - Jaíba'\n15. 'PR - Guarapuava'\n16. 'PR - Guarapuava'\n17. 'PR - Guarapuava'\n18. 'PR - Tapejara'\n19. 'PR - Tapejara'\n20. 'PR - Tapejara'\n\n\n",
            "text/html": [
              "<style>\n",
              ".list-inline {list-style: none; margin:0; padding: 0}\n",
              ".list-inline>li {display: inline-block}\n",
              ".list-inline>li:not(:last-child)::after {content: \"\\00b7\"; padding: 0 .5ex}\n",
              "</style>\n",
              "<ol class=list-inline><li>'MG - Uberaba'</li><li>'SP - São Paulo'</li><li>'MS - Campo Grande'</li><li>'MG - Uberlândia'</li><li>'AC - Rio Branco'</li><li>'MG - Betim'</li><li>'SP - Guarulhos'</li><li>'SP - Leme'</li><li>'MG - Indianópolis'</li><li>'PR - Maringá'</li><li>'PE - Recife'</li><li>'ES - Serra'</li><li>'RJ - Rio de Janeiro'</li><li>'MG - Jaíba'</li><li>'PR - Guarapuava'</li><li>'PR - Guarapuava'</li><li>'PR - Guarapuava'</li><li>'PR - Tapejara'</li><li>'PR - Tapejara'</li><li>'PR - Tapejara'</li></ol>\n"
            ]
          },
          "metadata": {
            "tags": []
          }
        }
      ]
    },
    {
      "cell_type": "code",
      "metadata": {
        "id": "cK2h4FxKxkh8"
      },
      "source": [
        "preco <- htmlPage %>%\n",
        "  html_nodes(\".information-price .information-content\") %>%\n",
        "  html_text()"
      ],
      "execution_count": 40,
      "outputs": []
    },
    {
      "cell_type": "code",
      "metadata": {
        "colab": {
          "base_uri": "https://localhost:8080/",
          "height": 68
        },
        "id": "EqxnevDvxu5e",
        "outputId": "b4287c91-7eb0-4e42-ea74-493b9c4d7ace"
      },
      "source": [
        "preco"
      ],
      "execution_count": 41,
      "outputs": [
        {
          "output_type": "display_data",
          "data": {
            "text/plain": [
              " [1] \"R$ 500,00\"   \"R$ 350,00\"   \"R$ 2.500,00\" \"R$ 150,00\"   \"R$ 9.000,00\"\n",
              " [6] \"R$ 800,00\"   \"R$ 7.800,00\" \"R$ 150,00\"   \"R$ 1.400,00\" \"R$ 3.800,00\"\n",
              "[11] \"A combinar\"  \"A combinar\"  \"R$ 300,00\"   \"A combinar\"  \"R$ 150,00\"  \n",
              "[16] \"R$ 150,00\"   \"R$ 150,00\"   \"R$ 150,00\"   \"R$ 150,00\"   \"R$ 150,00\"  "
            ],
            "text/latex": "\\begin{enumerate*}\n\\item 'R\\$ 500,00'\n\\item 'R\\$ 350,00'\n\\item 'R\\$ 2.500,00'\n\\item 'R\\$ 150,00'\n\\item 'R\\$ 9.000,00'\n\\item 'R\\$ 800,00'\n\\item 'R\\$ 7.800,00'\n\\item 'R\\$ 150,00'\n\\item 'R\\$ 1.400,00'\n\\item 'R\\$ 3.800,00'\n\\item 'A combinar'\n\\item 'A combinar'\n\\item 'R\\$ 300,00'\n\\item 'A combinar'\n\\item 'R\\$ 150,00'\n\\item 'R\\$ 150,00'\n\\item 'R\\$ 150,00'\n\\item 'R\\$ 150,00'\n\\item 'R\\$ 150,00'\n\\item 'R\\$ 150,00'\n\\end{enumerate*}\n",
            "text/markdown": "1. 'R$ 500,00'\n2. 'R$ 350,00'\n3. 'R$ 2.500,00'\n4. 'R$ 150,00'\n5. 'R$ 9.000,00'\n6. 'R$ 800,00'\n7. 'R$ 7.800,00'\n8. 'R$ 150,00'\n9. 'R$ 1.400,00'\n10. 'R$ 3.800,00'\n11. 'A combinar'\n12. 'A combinar'\n13. 'R$ 300,00'\n14. 'A combinar'\n15. 'R$ 150,00'\n16. 'R$ 150,00'\n17. 'R$ 150,00'\n18. 'R$ 150,00'\n19. 'R$ 150,00'\n20. 'R$ 150,00'\n\n\n",
            "text/html": [
              "<style>\n",
              ".list-inline {list-style: none; margin:0; padding: 0}\n",
              ".list-inline>li {display: inline-block}\n",
              ".list-inline>li:not(:last-child)::after {content: \"\\00b7\"; padding: 0 .5ex}\n",
              "</style>\n",
              "<ol class=list-inline><li>'R$ 500,00'</li><li>'R$ 350,00'</li><li>'R$ 2.500,00'</li><li>'R$ 150,00'</li><li>'R$ 9.000,00'</li><li>'R$ 800,00'</li><li>'R$ 7.800,00'</li><li>'R$ 150,00'</li><li>'R$ 1.400,00'</li><li>'R$ 3.800,00'</li><li>'A combinar'</li><li>'A combinar'</li><li>'R$ 300,00'</li><li>'A combinar'</li><li>'R$ 150,00'</li><li>'R$ 150,00'</li><li>'R$ 150,00'</li><li>'R$ 150,00'</li><li>'R$ 150,00'</li><li>'R$ 150,00'</li></ol>\n"
            ]
          },
          "metadata": {
            "tags": []
          }
        }
      ]
    },
    {
      "cell_type": "code",
      "metadata": {
        "id": "c4mnTpeaxxYC"
      },
      "source": [
        "peso <- htmlPage %>%\n",
        "  html_nodes(\".card-content-detail .information-end\") %>%\n",
        "  html_text()"
      ],
      "execution_count": 45,
      "outputs": []
    },
    {
      "cell_type": "code",
      "metadata": {
        "colab": {
          "base_uri": "https://localhost:8080/",
          "height": 51
        },
        "id": "I0-vDTlsx3ol",
        "outputId": "929982f9-4bc9-4c8b-b876-86b5215274c7"
      },
      "source": [
        "peso"
      ],
      "execution_count": 46,
      "outputs": [
        {
          "output_type": "display_data",
          "data": {
            "text/plain": [
              " [1] \"0.35 Ton\"  \"\"          \"3 Ton\"     \"\"          \"0.11 Ton\"  \"\"         \n",
              " [7] \"0.001 Ton\" \"\"          \"6 Ton\"     \"\"          \"0.35 Ton\"  \"\"         \n",
              "[13] \"27 Ton\"    \"\"          \"14 Ton\"    \"\"          \"12 Ton\"    \"\"         \n",
              "[19] \"28 Ton\"    \"\"          \"1.6 Ton\"   \"\"          \"26 Ton\"    \"\"         \n",
              "[25] \"0.6 Ton\"   \"\"          \"4 Ton\"     \"\"          \"45 Ton\"    \"\"         \n",
              "[31] \"32 Ton\"    \"\"          \"25 Ton\"    \"\"          \"45 Ton\"    \"\"         \n",
              "[37] \"32 Ton\"    \"\"          \"25 Ton\"    \"\"         "
            ],
            "text/latex": "\\begin{enumerate*}\n\\item '0.35 Ton'\n\\item ''\n\\item '3 Ton'\n\\item ''\n\\item '0.11 Ton'\n\\item ''\n\\item '0.001 Ton'\n\\item ''\n\\item '6 Ton'\n\\item ''\n\\item '0.35 Ton'\n\\item ''\n\\item '27 Ton'\n\\item ''\n\\item '14 Ton'\n\\item ''\n\\item '12 Ton'\n\\item ''\n\\item '28 Ton'\n\\item ''\n\\item '1.6 Ton'\n\\item ''\n\\item '26 Ton'\n\\item ''\n\\item '0.6 Ton'\n\\item ''\n\\item '4 Ton'\n\\item ''\n\\item '45 Ton'\n\\item ''\n\\item '32 Ton'\n\\item ''\n\\item '25 Ton'\n\\item ''\n\\item '45 Ton'\n\\item ''\n\\item '32 Ton'\n\\item ''\n\\item '25 Ton'\n\\item ''\n\\end{enumerate*}\n",
            "text/markdown": "1. '0.35 Ton'\n2. ''\n3. '3 Ton'\n4. ''\n5. '0.11 Ton'\n6. ''\n7. '0.001 Ton'\n8. ''\n9. '6 Ton'\n10. ''\n11. '0.35 Ton'\n12. ''\n13. '27 Ton'\n14. ''\n15. '14 Ton'\n16. ''\n17. '12 Ton'\n18. ''\n19. '28 Ton'\n20. ''\n21. '1.6 Ton'\n22. ''\n23. '26 Ton'\n24. ''\n25. '0.6 Ton'\n26. ''\n27. '4 Ton'\n28. ''\n29. '45 Ton'\n30. ''\n31. '32 Ton'\n32. ''\n33. '25 Ton'\n34. ''\n35. '45 Ton'\n36. ''\n37. '32 Ton'\n38. ''\n39. '25 Ton'\n40. ''\n\n\n",
            "text/html": [
              "<style>\n",
              ".list-inline {list-style: none; margin:0; padding: 0}\n",
              ".list-inline>li {display: inline-block}\n",
              ".list-inline>li:not(:last-child)::after {content: \"\\00b7\"; padding: 0 .5ex}\n",
              "</style>\n",
              "<ol class=list-inline><li>'0.35 Ton'</li><li>''</li><li>'3 Ton'</li><li>''</li><li>'0.11 Ton'</li><li>''</li><li>'0.001 Ton'</li><li>''</li><li>'6 Ton'</li><li>''</li><li>'0.35 Ton'</li><li>''</li><li>'27 Ton'</li><li>''</li><li>'14 Ton'</li><li>''</li><li>'12 Ton'</li><li>''</li><li>'28 Ton'</li><li>''</li><li>'1.6 Ton'</li><li>''</li><li>'26 Ton'</li><li>''</li><li>'0.6 Ton'</li><li>''</li><li>'4 Ton'</li><li>''</li><li>'45 Ton'</li><li>''</li><li>'32 Ton'</li><li>''</li><li>'25 Ton'</li><li>''</li><li>'45 Ton'</li><li>''</li><li>'32 Ton'</li><li>''</li><li>'25 Ton'</li><li>''</li></ol>\n"
            ]
          },
          "metadata": {
            "tags": []
          }
        }
      ]
    },
    {
      "cell_type": "code",
      "metadata": {
        "id": "hKv80SAlyGe5"
      },
      "source": [
        "truckpad = data.frame(origem,destinos,peso,preco)"
      ],
      "execution_count": 50,
      "outputs": []
    },
    {
      "cell_type": "code",
      "metadata": {
        "colab": {
          "base_uri": "https://localhost:8080/",
          "height": 1000
        },
        "id": "kDuMxDhryWmP",
        "outputId": "805f41a1-ea83-41e6-b0b4-14e7e401b09f"
      },
      "source": [
        "truckpad"
      ],
      "execution_count": 51,
      "outputs": [
        {
          "output_type": "display_data",
          "data": {
            "text/plain": [
              "   origem                 destinos            peso      preco      \n",
              "1  SP - Leme              MG - Uberaba        0.35 Ton  R$ 500,00  \n",
              "2  SP - Campinas          SP - São Paulo                R$ 350,00  \n",
              "3  SP - Suzano            MS - Campo Grande   3 Ton     R$ 2.500,00\n",
              "4  TO - Lagoa da Confusão MG - Uberlândia               R$ 150,00  \n",
              "5  SP - Vinhedo           AC - Rio Branco     0.11 Ton  R$ 9.000,00\n",
              "6  GO - Formosa           MG - Betim                    R$ 800,00  \n",
              "7  PB - Campina Grande    SP - Guarulhos      0.001 Ton R$ 7.800,00\n",
              "8  GO - Anápolis          SP - Leme                     R$ 150,00  \n",
              "9  SP - Ribeirão Preto    MG - Indianópolis   6 Ton     R$ 1.400,00\n",
              "10 RS - Bento Gonçalves   PR - Maringá                  R$ 3.800,00\n",
              "11 SP - Guarulhos         PE - Recife         0.35 Ton  A combinar \n",
              "12 SP - Itaquaquecetuba   ES - Serra                    A combinar \n",
              "13 SP - São Paulo         RJ - Rio de Janeiro 27 Ton    R$ 300,00  \n",
              "14 MG - Nova Lima         MG - Jaíba                    A combinar \n",
              "15 MS - Angélica          PR - Guarapuava     14 Ton    R$ 150,00  \n",
              "16 MS - Angélica          PR - Guarapuava               R$ 150,00  \n",
              "17 MS - Angélica          PR - Guarapuava     12 Ton    R$ 150,00  \n",
              "18 MS - Naviraí           PR - Tapejara                 R$ 150,00  \n",
              "19 MS - Naviraí           PR - Tapejara       28 Ton    R$ 150,00  \n",
              "20 MS - Naviraí           PR - Tapejara                 R$ 150,00  \n",
              "21 SP - Leme              MG - Uberaba        1.6 Ton   R$ 500,00  \n",
              "22 SP - Campinas          SP - São Paulo                R$ 350,00  \n",
              "23 SP - Suzano            MS - Campo Grande   26 Ton    R$ 2.500,00\n",
              "24 TO - Lagoa da Confusão MG - Uberlândia               R$ 150,00  \n",
              "25 SP - Vinhedo           AC - Rio Branco     0.6 Ton   R$ 9.000,00\n",
              "26 GO - Formosa           MG - Betim                    R$ 800,00  \n",
              "27 PB - Campina Grande    SP - Guarulhos      4 Ton     R$ 7.800,00\n",
              "28 GO - Anápolis          SP - Leme                     R$ 150,00  \n",
              "29 SP - Ribeirão Preto    MG - Indianópolis   45 Ton    R$ 1.400,00\n",
              "30 RS - Bento Gonçalves   PR - Maringá                  R$ 3.800,00\n",
              "31 SP - Guarulhos         PE - Recife         32 Ton    A combinar \n",
              "32 SP - Itaquaquecetuba   ES - Serra                    A combinar \n",
              "33 SP - São Paulo         RJ - Rio de Janeiro 25 Ton    R$ 300,00  \n",
              "34 MG - Nova Lima         MG - Jaíba                    A combinar \n",
              "35 MS - Angélica          PR - Guarapuava     45 Ton    R$ 150,00  \n",
              "36 MS - Angélica          PR - Guarapuava               R$ 150,00  \n",
              "37 MS - Angélica          PR - Guarapuava     32 Ton    R$ 150,00  \n",
              "38 MS - Naviraí           PR - Tapejara                 R$ 150,00  \n",
              "39 MS - Naviraí           PR - Tapejara       25 Ton    R$ 150,00  \n",
              "40 MS - Naviraí           PR - Tapejara                 R$ 150,00  "
            ],
            "text/latex": "A data.frame: 40 × 4\n\\begin{tabular}{llll}\n origem & destinos & peso & preco\\\\\n <chr> & <chr> & <chr> & <chr>\\\\\n\\hline\n\t SP - Leme              & MG - Uberaba        & 0.35 Ton  & R\\$ 500,00  \\\\\n\t SP - Campinas          & SP - São Paulo      &           & R\\$ 350,00  \\\\\n\t SP - Suzano            & MS - Campo Grande   & 3 Ton     & R\\$ 2.500,00\\\\\n\t TO - Lagoa da Confusão & MG - Uberlândia     &           & R\\$ 150,00  \\\\\n\t SP - Vinhedo           & AC - Rio Branco     & 0.11 Ton  & R\\$ 9.000,00\\\\\n\t GO - Formosa           & MG - Betim          &           & R\\$ 800,00  \\\\\n\t PB - Campina Grande    & SP - Guarulhos      & 0.001 Ton & R\\$ 7.800,00\\\\\n\t GO - Anápolis          & SP - Leme           &           & R\\$ 150,00  \\\\\n\t SP - Ribeirão Preto    & MG - Indianópolis   & 6 Ton     & R\\$ 1.400,00\\\\\n\t RS - Bento Gonçalves   & PR - Maringá        &           & R\\$ 3.800,00\\\\\n\t SP - Guarulhos         & PE - Recife         & 0.35 Ton  & A combinar \\\\\n\t SP - Itaquaquecetuba   & ES - Serra          &           & A combinar \\\\\n\t SP - São Paulo         & RJ - Rio de Janeiro & 27 Ton    & R\\$ 300,00  \\\\\n\t MG - Nova Lima         & MG - Jaíba          &           & A combinar \\\\\n\t MS - Angélica          & PR - Guarapuava     & 14 Ton    & R\\$ 150,00  \\\\\n\t MS - Angélica          & PR - Guarapuava     &           & R\\$ 150,00  \\\\\n\t MS - Angélica          & PR - Guarapuava     & 12 Ton    & R\\$ 150,00  \\\\\n\t MS - Naviraí           & PR - Tapejara       &           & R\\$ 150,00  \\\\\n\t MS - Naviraí           & PR - Tapejara       & 28 Ton    & R\\$ 150,00  \\\\\n\t MS - Naviraí           & PR - Tapejara       &           & R\\$ 150,00  \\\\\n\t SP - Leme              & MG - Uberaba        & 1.6 Ton   & R\\$ 500,00  \\\\\n\t SP - Campinas          & SP - São Paulo      &           & R\\$ 350,00  \\\\\n\t SP - Suzano            & MS - Campo Grande   & 26 Ton    & R\\$ 2.500,00\\\\\n\t TO - Lagoa da Confusão & MG - Uberlândia     &           & R\\$ 150,00  \\\\\n\t SP - Vinhedo           & AC - Rio Branco     & 0.6 Ton   & R\\$ 9.000,00\\\\\n\t GO - Formosa           & MG - Betim          &           & R\\$ 800,00  \\\\\n\t PB - Campina Grande    & SP - Guarulhos      & 4 Ton     & R\\$ 7.800,00\\\\\n\t GO - Anápolis          & SP - Leme           &           & R\\$ 150,00  \\\\\n\t SP - Ribeirão Preto    & MG - Indianópolis   & 45 Ton    & R\\$ 1.400,00\\\\\n\t RS - Bento Gonçalves   & PR - Maringá        &           & R\\$ 3.800,00\\\\\n\t SP - Guarulhos         & PE - Recife         & 32 Ton    & A combinar \\\\\n\t SP - Itaquaquecetuba   & ES - Serra          &           & A combinar \\\\\n\t SP - São Paulo         & RJ - Rio de Janeiro & 25 Ton    & R\\$ 300,00  \\\\\n\t MG - Nova Lima         & MG - Jaíba          &           & A combinar \\\\\n\t MS - Angélica          & PR - Guarapuava     & 45 Ton    & R\\$ 150,00  \\\\\n\t MS - Angélica          & PR - Guarapuava     &           & R\\$ 150,00  \\\\\n\t MS - Angélica          & PR - Guarapuava     & 32 Ton    & R\\$ 150,00  \\\\\n\t MS - Naviraí           & PR - Tapejara       &           & R\\$ 150,00  \\\\\n\t MS - Naviraí           & PR - Tapejara       & 25 Ton    & R\\$ 150,00  \\\\\n\t MS - Naviraí           & PR - Tapejara       &           & R\\$ 150,00  \\\\\n\\end{tabular}\n",
            "text/markdown": "\nA data.frame: 40 × 4\n\n| origem &lt;chr&gt; | destinos &lt;chr&gt; | peso &lt;chr&gt; | preco &lt;chr&gt; |\n|---|---|---|---|\n| SP - Leme              | MG - Uberaba        | 0.35 Ton  | R$ 500,00   |\n| SP - Campinas          | SP - São Paulo      | <!----> | R$ 350,00   |\n| SP - Suzano            | MS - Campo Grande   | 3 Ton     | R$ 2.500,00 |\n| TO - Lagoa da Confusão | MG - Uberlândia     | <!----> | R$ 150,00   |\n| SP - Vinhedo           | AC - Rio Branco     | 0.11 Ton  | R$ 9.000,00 |\n| GO - Formosa           | MG - Betim          | <!----> | R$ 800,00   |\n| PB - Campina Grande    | SP - Guarulhos      | 0.001 Ton | R$ 7.800,00 |\n| GO - Anápolis          | SP - Leme           | <!----> | R$ 150,00   |\n| SP - Ribeirão Preto    | MG - Indianópolis   | 6 Ton     | R$ 1.400,00 |\n| RS - Bento Gonçalves   | PR - Maringá        | <!----> | R$ 3.800,00 |\n| SP - Guarulhos         | PE - Recife         | 0.35 Ton  | A combinar  |\n| SP - Itaquaquecetuba   | ES - Serra          | <!----> | A combinar  |\n| SP - São Paulo         | RJ - Rio de Janeiro | 27 Ton    | R$ 300,00   |\n| MG - Nova Lima         | MG - Jaíba          | <!----> | A combinar  |\n| MS - Angélica          | PR - Guarapuava     | 14 Ton    | R$ 150,00   |\n| MS - Angélica          | PR - Guarapuava     | <!----> | R$ 150,00   |\n| MS - Angélica          | PR - Guarapuava     | 12 Ton    | R$ 150,00   |\n| MS - Naviraí           | PR - Tapejara       | <!----> | R$ 150,00   |\n| MS - Naviraí           | PR - Tapejara       | 28 Ton    | R$ 150,00   |\n| MS - Naviraí           | PR - Tapejara       | <!----> | R$ 150,00   |\n| SP - Leme              | MG - Uberaba        | 1.6 Ton   | R$ 500,00   |\n| SP - Campinas          | SP - São Paulo      | <!----> | R$ 350,00   |\n| SP - Suzano            | MS - Campo Grande   | 26 Ton    | R$ 2.500,00 |\n| TO - Lagoa da Confusão | MG - Uberlândia     | <!----> | R$ 150,00   |\n| SP - Vinhedo           | AC - Rio Branco     | 0.6 Ton   | R$ 9.000,00 |\n| GO - Formosa           | MG - Betim          | <!----> | R$ 800,00   |\n| PB - Campina Grande    | SP - Guarulhos      | 4 Ton     | R$ 7.800,00 |\n| GO - Anápolis          | SP - Leme           | <!----> | R$ 150,00   |\n| SP - Ribeirão Preto    | MG - Indianópolis   | 45 Ton    | R$ 1.400,00 |\n| RS - Bento Gonçalves   | PR - Maringá        | <!----> | R$ 3.800,00 |\n| SP - Guarulhos         | PE - Recife         | 32 Ton    | A combinar  |\n| SP - Itaquaquecetuba   | ES - Serra          | <!----> | A combinar  |\n| SP - São Paulo         | RJ - Rio de Janeiro | 25 Ton    | R$ 300,00   |\n| MG - Nova Lima         | MG - Jaíba          | <!----> | A combinar  |\n| MS - Angélica          | PR - Guarapuava     | 45 Ton    | R$ 150,00   |\n| MS - Angélica          | PR - Guarapuava     | <!----> | R$ 150,00   |\n| MS - Angélica          | PR - Guarapuava     | 32 Ton    | R$ 150,00   |\n| MS - Naviraí           | PR - Tapejara       | <!----> | R$ 150,00   |\n| MS - Naviraí           | PR - Tapejara       | 25 Ton    | R$ 150,00   |\n| MS - Naviraí           | PR - Tapejara       | <!----> | R$ 150,00   |\n\n",
            "text/html": [
              "<table class=\"dataframe\">\n",
              "<caption>A data.frame: 40 × 4</caption>\n",
              "<thead>\n",
              "\t<tr><th scope=col>origem</th><th scope=col>destinos</th><th scope=col>peso</th><th scope=col>preco</th></tr>\n",
              "\t<tr><th scope=col>&lt;chr&gt;</th><th scope=col>&lt;chr&gt;</th><th scope=col>&lt;chr&gt;</th><th scope=col>&lt;chr&gt;</th></tr>\n",
              "</thead>\n",
              "<tbody>\n",
              "\t<tr><td>SP - Leme             </td><td>MG - Uberaba       </td><td>0.35 Ton </td><td>R$ 500,00  </td></tr>\n",
              "\t<tr><td>SP - Campinas         </td><td>SP - São Paulo     </td><td>         </td><td>R$ 350,00  </td></tr>\n",
              "\t<tr><td>SP - Suzano           </td><td>MS - Campo Grande  </td><td>3 Ton    </td><td>R$ 2.500,00</td></tr>\n",
              "\t<tr><td>TO - Lagoa da Confusão</td><td>MG - Uberlândia    </td><td>         </td><td>R$ 150,00  </td></tr>\n",
              "\t<tr><td>SP - Vinhedo          </td><td>AC - Rio Branco    </td><td>0.11 Ton </td><td>R$ 9.000,00</td></tr>\n",
              "\t<tr><td>GO - Formosa          </td><td>MG - Betim         </td><td>         </td><td>R$ 800,00  </td></tr>\n",
              "\t<tr><td>PB - Campina Grande   </td><td>SP - Guarulhos     </td><td>0.001 Ton</td><td>R$ 7.800,00</td></tr>\n",
              "\t<tr><td>GO - Anápolis         </td><td>SP - Leme          </td><td>         </td><td>R$ 150,00  </td></tr>\n",
              "\t<tr><td>SP - Ribeirão Preto   </td><td>MG - Indianópolis  </td><td>6 Ton    </td><td>R$ 1.400,00</td></tr>\n",
              "\t<tr><td>RS - Bento Gonçalves  </td><td>PR - Maringá       </td><td>         </td><td>R$ 3.800,00</td></tr>\n",
              "\t<tr><td>SP - Guarulhos        </td><td>PE - Recife        </td><td>0.35 Ton </td><td>A combinar </td></tr>\n",
              "\t<tr><td>SP - Itaquaquecetuba  </td><td>ES - Serra         </td><td>         </td><td>A combinar </td></tr>\n",
              "\t<tr><td>SP - São Paulo        </td><td>RJ - Rio de Janeiro</td><td>27 Ton   </td><td>R$ 300,00  </td></tr>\n",
              "\t<tr><td>MG - Nova Lima        </td><td>MG - Jaíba         </td><td>         </td><td>A combinar </td></tr>\n",
              "\t<tr><td>MS - Angélica         </td><td>PR - Guarapuava    </td><td>14 Ton   </td><td>R$ 150,00  </td></tr>\n",
              "\t<tr><td>MS - Angélica         </td><td>PR - Guarapuava    </td><td>         </td><td>R$ 150,00  </td></tr>\n",
              "\t<tr><td>MS - Angélica         </td><td>PR - Guarapuava    </td><td>12 Ton   </td><td>R$ 150,00  </td></tr>\n",
              "\t<tr><td>MS - Naviraí          </td><td>PR - Tapejara      </td><td>         </td><td>R$ 150,00  </td></tr>\n",
              "\t<tr><td>MS - Naviraí          </td><td>PR - Tapejara      </td><td>28 Ton   </td><td>R$ 150,00  </td></tr>\n",
              "\t<tr><td>MS - Naviraí          </td><td>PR - Tapejara      </td><td>         </td><td>R$ 150,00  </td></tr>\n",
              "\t<tr><td>SP - Leme             </td><td>MG - Uberaba       </td><td>1.6 Ton  </td><td>R$ 500,00  </td></tr>\n",
              "\t<tr><td>SP - Campinas         </td><td>SP - São Paulo     </td><td>         </td><td>R$ 350,00  </td></tr>\n",
              "\t<tr><td>SP - Suzano           </td><td>MS - Campo Grande  </td><td>26 Ton   </td><td>R$ 2.500,00</td></tr>\n",
              "\t<tr><td>TO - Lagoa da Confusão</td><td>MG - Uberlândia    </td><td>         </td><td>R$ 150,00  </td></tr>\n",
              "\t<tr><td>SP - Vinhedo          </td><td>AC - Rio Branco    </td><td>0.6 Ton  </td><td>R$ 9.000,00</td></tr>\n",
              "\t<tr><td>GO - Formosa          </td><td>MG - Betim         </td><td>         </td><td>R$ 800,00  </td></tr>\n",
              "\t<tr><td>PB - Campina Grande   </td><td>SP - Guarulhos     </td><td>4 Ton    </td><td>R$ 7.800,00</td></tr>\n",
              "\t<tr><td>GO - Anápolis         </td><td>SP - Leme          </td><td>         </td><td>R$ 150,00  </td></tr>\n",
              "\t<tr><td>SP - Ribeirão Preto   </td><td>MG - Indianópolis  </td><td>45 Ton   </td><td>R$ 1.400,00</td></tr>\n",
              "\t<tr><td>RS - Bento Gonçalves  </td><td>PR - Maringá       </td><td>         </td><td>R$ 3.800,00</td></tr>\n",
              "\t<tr><td>SP - Guarulhos        </td><td>PE - Recife        </td><td>32 Ton   </td><td>A combinar </td></tr>\n",
              "\t<tr><td>SP - Itaquaquecetuba  </td><td>ES - Serra         </td><td>         </td><td>A combinar </td></tr>\n",
              "\t<tr><td>SP - São Paulo        </td><td>RJ - Rio de Janeiro</td><td>25 Ton   </td><td>R$ 300,00  </td></tr>\n",
              "\t<tr><td>MG - Nova Lima        </td><td>MG - Jaíba         </td><td>         </td><td>A combinar </td></tr>\n",
              "\t<tr><td>MS - Angélica         </td><td>PR - Guarapuava    </td><td>45 Ton   </td><td>R$ 150,00  </td></tr>\n",
              "\t<tr><td>MS - Angélica         </td><td>PR - Guarapuava    </td><td>         </td><td>R$ 150,00  </td></tr>\n",
              "\t<tr><td>MS - Angélica         </td><td>PR - Guarapuava    </td><td>32 Ton   </td><td>R$ 150,00  </td></tr>\n",
              "\t<tr><td>MS - Naviraí          </td><td>PR - Tapejara      </td><td>         </td><td>R$ 150,00  </td></tr>\n",
              "\t<tr><td>MS - Naviraí          </td><td>PR - Tapejara      </td><td>25 Ton   </td><td>R$ 150,00  </td></tr>\n",
              "\t<tr><td>MS - Naviraí          </td><td>PR - Tapejara      </td><td>         </td><td>R$ 150,00  </td></tr>\n",
              "</tbody>\n",
              "</table>\n"
            ]
          },
          "metadata": {
            "tags": []
          }
        }
      ]
    },
    {
      "cell_type": "markdown",
      "metadata": {
        "id": "7EtHxApVxfZ3"
      },
      "source": [
        "# Modo avançado"
      ]
    },
    {
      "cell_type": "code",
      "metadata": {
        "id": "tpN7Rs4vxNU8"
      },
      "source": [
        "# Criar funções para realizar scraping dos detalhes de cada frete anunciado\n",
        "coleta_detalhes = function(link_detalhes){\n",
        "  detalhes = read_html(link_detalhes)\n",
        "  \n",
        "  peso = detalhes %>% \n",
        "    html_nodes(\".details-truckload section+ section .information:nth-child(1) .information-end\") %>% \n",
        "    html_text()\n",
        "  \n",
        "  carga_completa = detalhes %>% \n",
        "    html_nodes(\".details-truckload section:nth-child(1) .information:nth-child(2) .information-end\") %>% \n",
        "    html_text()\n",
        "  \n",
        "  tipo_carregamento = detalhes %>% \n",
        "    html_nodes(\".details-truckload section:nth-child(1) .information~ .information+ .information .information-end\") %>% \n",
        "    html_text()\n",
        "  \n",
        "  natureza_carga = detalhes %>% \n",
        "    html_nodes(\".details-truckload section+ section .information~ .information+ .information .information-end\") %>% \n",
        "    html_text()\n",
        "  \n",
        "  tamanho = detalhes %>% \n",
        "    html_nodes(\".details-truckload section+ section .information:nth-child(2) .information-end\") %>% \n",
        "    html_text()\n",
        "  \n",
        "  distancia = detalhes %>% \n",
        "    html_node(\".information-distance .information-end\") %>% \n",
        "    html_text()\n",
        "  \n",
        "  frete_km = detalhes %>% \n",
        "    html_nodes(\".details-payment section:nth-child(1) .information:nth-child(2) .information-end\") %>% \n",
        "    html_text()\n",
        "  \n",
        "  retorno <- list(c(peso, carga_completa, tipo_carregamento, natureza_carga, tamanho,\n",
        "                  distancia, frete_km))\n",
        "  \n",
        "  return(retorno)\n",
        "}"
      ],
      "execution_count": 75,
      "outputs": []
    },
    {
      "cell_type": "code",
      "metadata": {
        "id": "Jw1ya7kc6irI"
      },
      "source": [
        "# Carregar páginas a serem digeridas e separar seu código HTML. O código está desenhado para coletar as 10 primeiras páginas do site. \n",
        "\n",
        "truckpad = data.frame()\n",
        "\n",
        "for (pagina in seq(from=1, to=10)){\n",
        "  link = paste0(\"https://www.truckpad.com.br/fretes/1/?pagina=\", pagina)\n",
        "  \n",
        "  htmlPage = read_html(link)\n",
        "\n",
        "  links_detalhes = htmlPage %>% \n",
        "    html_nodes(\".button-detail\") %>%\n",
        "    html_attr(\"href\") %>%\n",
        "    paste(\"https://www.truckpad.com.br\", ., sep=\"\")\n",
        "  \n",
        "  origem = htmlPage %>% \n",
        "    html_nodes(\".route .information:nth-child(1) .information-content\") %>% \n",
        "    html_text()\n",
        "  \n",
        "  destino = htmlPage %>% \n",
        "    html_nodes(\".route .information+ .information .information-content\") %>% \n",
        "    html_text()\n",
        "  \n",
        "  veiculo = htmlPage %>% \n",
        "    html_nodes(\".card-content-vehicle .information:nth-child(1) .information-end\") %>% \n",
        "    html_text()\n",
        "  \n",
        "  carroceria = htmlPage %>% \n",
        "    html_nodes(\".information+ .information .information-content.information-end\") %>% \n",
        "    html_text()\n",
        "  \n",
        "  preco = htmlPage %>% \n",
        "    html_nodes(\".information-price .information-content\") %>% html_text()\n",
        "  \n",
        "  preco_tonelada = htmlPage %>% \n",
        "    html_nodes(\".information-per-ton\") %>% html_text()\n",
        "  \n",
        "  detalhes = sapply(links_detalhes, FUN = coleta_detalhes)\n",
        "  \n",
        "  peso = NULL\n",
        "  carga_completa = NULL\n",
        "  tipo_carregamento = NULL\n",
        "  natureza_carga = NULL\n",
        "  tamanho = NULL\n",
        "  distancia = NULL\n",
        "  frete_km = NULL\n",
        "  \n",
        "  for (detalhe in detalhes){\n",
        "    peso = append(peso, detalhe[1])\n",
        "    carga_completa = append(carga_completa, detalhe[2])\n",
        "    tipo_carregamento = append(tipo_carregamento, detalhe[3])\n",
        "    natureza_carga = append(natureza_carga, detalhe[4])\n",
        "    tamanho = append(tamanho, detalhe[5])\n",
        "    distancia = append(distancia, detalhe[6])\n",
        "    frete_km = append(frete_km, detalhe[7])\n",
        "  }\n",
        "  \n",
        "  truckpad = rbind(truckpad, data.frame(origem, destino, veiculo, carroceria, \n",
        "                                        preco, peso, carga_completa, tipo_carregamento,\n",
        "                                        natureza_carga, tamanho, distancia, frete_km))\n",
        "}\n",
        "\n",
        "truckpad = separate(data = truckpad,col = origem, into = c(\"uf_origem\", \"cidade_origem\"),sep = \"-\")\n",
        "truckpad = separate(data = truckpad,col = destino, into = c(\"uf_destino\", \"cidade_destino\"),sep = \"-\")"
      ],
      "execution_count": 78,
      "outputs": []
    },
    {
      "cell_type": "code",
      "metadata": {
        "colab": {
          "base_uri": "https://localhost:8080/",
          "height": 68
        },
        "id": "w0PUDvvT6wwg",
        "outputId": "3be1786e-537e-4bfe-c518-9dd5b7139846"
      },
      "source": [
        "ls() # listar todas as variáveis"
      ],
      "execution_count": 56,
      "outputs": [
        {
          "output_type": "display_data",
          "data": {
            "text/plain": [
              " [1] \"carga_completa\"    \"carroceria\"        \"coleta_detalhes\"  \n",
              " [4] \"destino\"           \"destinos\"          \"detalhe\"          \n",
              " [7] \"detalhes\"          \"distancia\"         \"frete_km\"         \n",
              "[10] \"htmlPage\"          \"link\"              \"links_detalhes\"   \n",
              "[13] \"natureza_carga\"    \"origem\"            \"pagina\"           \n",
              "[16] \"peso\"              \"preco\"             \"preco_tonelada\"   \n",
              "[19] \"tamanho\"           \"tipo_carregamento\" \"truckpad\"         \n",
              "[22] \"veiculo\"          "
            ],
            "text/latex": "\\begin{enumerate*}\n\\item 'carga\\_completa'\n\\item 'carroceria'\n\\item 'coleta\\_detalhes'\n\\item 'destino'\n\\item 'destinos'\n\\item 'detalhe'\n\\item 'detalhes'\n\\item 'distancia'\n\\item 'frete\\_km'\n\\item 'htmlPage'\n\\item 'link'\n\\item 'links\\_detalhes'\n\\item 'natureza\\_carga'\n\\item 'origem'\n\\item 'pagina'\n\\item 'peso'\n\\item 'preco'\n\\item 'preco\\_tonelada'\n\\item 'tamanho'\n\\item 'tipo\\_carregamento'\n\\item 'truckpad'\n\\item 'veiculo'\n\\end{enumerate*}\n",
            "text/markdown": "1. 'carga_completa'\n2. 'carroceria'\n3. 'coleta_detalhes'\n4. 'destino'\n5. 'destinos'\n6. 'detalhe'\n7. 'detalhes'\n8. 'distancia'\n9. 'frete_km'\n10. 'htmlPage'\n11. 'link'\n12. 'links_detalhes'\n13. 'natureza_carga'\n14. 'origem'\n15. 'pagina'\n16. 'peso'\n17. 'preco'\n18. 'preco_tonelada'\n19. 'tamanho'\n20. 'tipo_carregamento'\n21. 'truckpad'\n22. 'veiculo'\n\n\n",
            "text/html": [
              "<style>\n",
              ".list-inline {list-style: none; margin:0; padding: 0}\n",
              ".list-inline>li {display: inline-block}\n",
              ".list-inline>li:not(:last-child)::after {content: \"\\00b7\"; padding: 0 .5ex}\n",
              "</style>\n",
              "<ol class=list-inline><li>'carga_completa'</li><li>'carroceria'</li><li>'coleta_detalhes'</li><li>'destino'</li><li>'destinos'</li><li>'detalhe'</li><li>'detalhes'</li><li>'distancia'</li><li>'frete_km'</li><li>'htmlPage'</li><li>'link'</li><li>'links_detalhes'</li><li>'natureza_carga'</li><li>'origem'</li><li>'pagina'</li><li>'peso'</li><li>'preco'</li><li>'preco_tonelada'</li><li>'tamanho'</li><li>'tipo_carregamento'</li><li>'truckpad'</li><li>'veiculo'</li></ol>\n"
            ]
          },
          "metadata": {
            "tags": []
          }
        }
      ]
    },
    {
      "cell_type": "code",
      "metadata": {
        "colab": {
          "base_uri": "https://localhost:8080/",
          "height": 221
        },
        "id": "W8h_EypS71GX",
        "outputId": "e576319f-c508-42f0-e257-11f0e58f1fc6"
      },
      "source": [
        "summary(truckpad)"
      ],
      "execution_count": 60,
      "outputs": [
        {
          "output_type": "display_data",
          "data": {
            "text/plain": [
              "    origem            destino            veiculo           carroceria       \n",
              " Length:200         Length:200         Length:200         Length:200        \n",
              " Class :character   Class :character   Class :character   Class :character  \n",
              " Mode  :character   Mode  :character   Mode  :character   Mode  :character  \n",
              "    preco               peso           carga_completa     tipo_carregamento \n",
              " Length:200         Length:200         Length:200         Length:200        \n",
              " Class :character   Class :character   Class :character   Class :character  \n",
              " Mode  :character   Mode  :character   Mode  :character   Mode  :character  \n",
              " natureza_carga       tamanho           distancia           frete_km        \n",
              " Length:200         Length:200         Length:200         Length:200        \n",
              " Class :character   Class :character   Class :character   Class :character  \n",
              " Mode  :character   Mode  :character   Mode  :character   Mode  :character  "
            ]
          },
          "metadata": {
            "tags": []
          }
        }
      ]
    },
    {
      "cell_type": "code",
      "metadata": {
        "colab": {
          "base_uri": "https://localhost:8080/",
          "height": 750
        },
        "id": "P2YmTTAg8FLR",
        "outputId": "14be3989-efb6-4abb-c971-ecb149b083c6"
      },
      "source": [
        "head(truckpad, n=10)"
      ],
      "execution_count": 63,
      "outputs": [
        {
          "output_type": "display_data",
          "data": {
            "text/plain": [
              "   origem                 destino           veiculo       carroceria   \n",
              "1  SP - São Paulo         SP - São Paulo    Não informado Não informado\n",
              "2  RJ - Rio de Janeiro    PE - Recife       Não informado Não informado\n",
              "3  PB - João Pessoa       BA - Buerarema    Não informado Não informado\n",
              "4  SP - Leme              MG - Uberaba      Não informado Não informado\n",
              "5  SP - Campinas          SP - São Paulo    Não informado Não informado\n",
              "6  SP - Suzano            MS - Campo Grande Não informado Não informado\n",
              "7  TO - Lagoa da Confusão MG - Uberlândia   Não informado Não informado\n",
              "8  SP - Vinhedo           AC - Rio Branco   Não informado Não informado\n",
              "9  GO - Formosa           MG - Betim        Não informado Não informado\n",
              "10 PB - Campina Grande    SP - Guarulhos    Não informado Não informado\n",
              "   preco       peso      carga_completa tipo_carregamento natureza_carga\n",
              "1  R$ 400,00   0.5 Ton   AGREGAMENTO    Não informado     Não informado \n",
              "2  A combinar  3.87 Ton  COMPLEMENTO    Não informado     Não informado \n",
              "3  R$ 4.500,00 25 Ton    COMPLETA       Não informado     Não informado \n",
              "4  R$ 500,00   0.35 Ton  COMPLEMENTO    Não informado     Não informado \n",
              "5  R$ 350,00   3 Ton     COMPLETA       Não informado     Não informado \n",
              "6  R$ 2.500,00 0.11 Ton  COMPLETA       Não informado     Não informado \n",
              "7  R$ 150,00   0.001 Ton COMPLETA       Não informado     Não informado \n",
              "8  R$ 9.000,00 6 Ton     COMPLETA       Não informado     Não informado \n",
              "9  R$ 800,00   0.35 Ton  COMPLEMENTO    Não informado     Não informado \n",
              "10 R$ 7.800,00 27 Ton    COMPLETA       Não informado     Não informado \n",
              "   tamanho  distancia     frete_km         \n",
              "1  500 kg   Não informado Não Requer       \n",
              "2  3870 kg  2303Km        Não Requer       \n",
              "3  25000 kg 1249Km        R$ 3,60/Km rodado\n",
              "4  350 kg   294Km         R$ 1,70/Km rodado\n",
              "5  3000 kg  98Km          R$ 3,56/Km rodado\n",
              "6  110 kg   1052Km        R$ 2,38/Km rodado\n",
              "7  1 kg     1103Km        R$ 0,14/Km rodado\n",
              "8  6000 kg  3416Km        R$ 2,63/Km rodado\n",
              "9  350 kg   785Km         R$ 1,02/Km rodado\n",
              "10 27000 kg 2602Km        R$ 3,00/Km rodado"
            ],
            "text/latex": "A data.frame: 10 × 12\n\\begin{tabular}{r|llllllllllll}\n  & origem & destino & veiculo & carroceria & preco & peso & carga\\_completa & tipo\\_carregamento & natureza\\_carga & tamanho & distancia & frete\\_km\\\\\n  & <chr> & <chr> & <chr> & <chr> & <chr> & <chr> & <chr> & <chr> & <chr> & <chr> & <chr> & <chr>\\\\\n\\hline\n\t1 & SP - São Paulo         & SP - São Paulo    & Não informado & Não informado & R\\$ 400,00   & 0.5 Ton   & AGREGAMENTO & Não informado & Não informado & 500 kg   & Não informado & Não Requer       \\\\\n\t2 & RJ - Rio de Janeiro    & PE - Recife       & Não informado & Não informado & A combinar  & 3.87 Ton  & COMPLEMENTO & Não informado & Não informado & 3870 kg  & 2303Km        & Não Requer       \\\\\n\t3 & PB - João Pessoa       & BA - Buerarema    & Não informado & Não informado & R\\$ 4.500,00 & 25 Ton    & COMPLETA    & Não informado & Não informado & 25000 kg & 1249Km        & R\\$ 3,60/Km rodado\\\\\n\t4 & SP - Leme              & MG - Uberaba      & Não informado & Não informado & R\\$ 500,00   & 0.35 Ton  & COMPLEMENTO & Não informado & Não informado & 350 kg   & 294Km         & R\\$ 1,70/Km rodado\\\\\n\t5 & SP - Campinas          & SP - São Paulo    & Não informado & Não informado & R\\$ 350,00   & 3 Ton     & COMPLETA    & Não informado & Não informado & 3000 kg  & 98Km          & R\\$ 3,56/Km rodado\\\\\n\t6 & SP - Suzano            & MS - Campo Grande & Não informado & Não informado & R\\$ 2.500,00 & 0.11 Ton  & COMPLETA    & Não informado & Não informado & 110 kg   & 1052Km        & R\\$ 2,38/Km rodado\\\\\n\t7 & TO - Lagoa da Confusão & MG - Uberlândia   & Não informado & Não informado & R\\$ 150,00   & 0.001 Ton & COMPLETA    & Não informado & Não informado & 1 kg     & 1103Km        & R\\$ 0,14/Km rodado\\\\\n\t8 & SP - Vinhedo           & AC - Rio Branco   & Não informado & Não informado & R\\$ 9.000,00 & 6 Ton     & COMPLETA    & Não informado & Não informado & 6000 kg  & 3416Km        & R\\$ 2,63/Km rodado\\\\\n\t9 & GO - Formosa           & MG - Betim        & Não informado & Não informado & R\\$ 800,00   & 0.35 Ton  & COMPLEMENTO & Não informado & Não informado & 350 kg   & 785Km         & R\\$ 1,02/Km rodado\\\\\n\t10 & PB - Campina Grande    & SP - Guarulhos    & Não informado & Não informado & R\\$ 7.800,00 & 27 Ton    & COMPLETA    & Não informado & Não informado & 27000 kg & 2602Km        & R\\$ 3,00/Km rodado\\\\\n\\end{tabular}\n",
            "text/markdown": "\nA data.frame: 10 × 12\n\n| <!--/--> | origem &lt;chr&gt; | destino &lt;chr&gt; | veiculo &lt;chr&gt; | carroceria &lt;chr&gt; | preco &lt;chr&gt; | peso &lt;chr&gt; | carga_completa &lt;chr&gt; | tipo_carregamento &lt;chr&gt; | natureza_carga &lt;chr&gt; | tamanho &lt;chr&gt; | distancia &lt;chr&gt; | frete_km &lt;chr&gt; |\n|---|---|---|---|---|---|---|---|---|---|---|---|---|\n| 1 | SP - São Paulo         | SP - São Paulo    | Não informado | Não informado | R$ 400,00   | 0.5 Ton   | AGREGAMENTO | Não informado | Não informado | 500 kg   | Não informado | Não Requer        |\n| 2 | RJ - Rio de Janeiro    | PE - Recife       | Não informado | Não informado | A combinar  | 3.87 Ton  | COMPLEMENTO | Não informado | Não informado | 3870 kg  | 2303Km        | Não Requer        |\n| 3 | PB - João Pessoa       | BA - Buerarema    | Não informado | Não informado | R$ 4.500,00 | 25 Ton    | COMPLETA    | Não informado | Não informado | 25000 kg | 1249Km        | R$ 3,60/Km rodado |\n| 4 | SP - Leme              | MG - Uberaba      | Não informado | Não informado | R$ 500,00   | 0.35 Ton  | COMPLEMENTO | Não informado | Não informado | 350 kg   | 294Km         | R$ 1,70/Km rodado |\n| 5 | SP - Campinas          | SP - São Paulo    | Não informado | Não informado | R$ 350,00   | 3 Ton     | COMPLETA    | Não informado | Não informado | 3000 kg  | 98Km          | R$ 3,56/Km rodado |\n| 6 | SP - Suzano            | MS - Campo Grande | Não informado | Não informado | R$ 2.500,00 | 0.11 Ton  | COMPLETA    | Não informado | Não informado | 110 kg   | 1052Km        | R$ 2,38/Km rodado |\n| 7 | TO - Lagoa da Confusão | MG - Uberlândia   | Não informado | Não informado | R$ 150,00   | 0.001 Ton | COMPLETA    | Não informado | Não informado | 1 kg     | 1103Km        | R$ 0,14/Km rodado |\n| 8 | SP - Vinhedo           | AC - Rio Branco   | Não informado | Não informado | R$ 9.000,00 | 6 Ton     | COMPLETA    | Não informado | Não informado | 6000 kg  | 3416Km        | R$ 2,63/Km rodado |\n| 9 | GO - Formosa           | MG - Betim        | Não informado | Não informado | R$ 800,00   | 0.35 Ton  | COMPLEMENTO | Não informado | Não informado | 350 kg   | 785Km         | R$ 1,02/Km rodado |\n| 10 | PB - Campina Grande    | SP - Guarulhos    | Não informado | Não informado | R$ 7.800,00 | 27 Ton    | COMPLETA    | Não informado | Não informado | 27000 kg | 2602Km        | R$ 3,00/Km rodado |\n\n",
            "text/html": [
              "<table class=\"dataframe\">\n",
              "<caption>A data.frame: 10 × 12</caption>\n",
              "<thead>\n",
              "\t<tr><th></th><th scope=col>origem</th><th scope=col>destino</th><th scope=col>veiculo</th><th scope=col>carroceria</th><th scope=col>preco</th><th scope=col>peso</th><th scope=col>carga_completa</th><th scope=col>tipo_carregamento</th><th scope=col>natureza_carga</th><th scope=col>tamanho</th><th scope=col>distancia</th><th scope=col>frete_km</th></tr>\n",
              "\t<tr><th></th><th scope=col>&lt;chr&gt;</th><th scope=col>&lt;chr&gt;</th><th scope=col>&lt;chr&gt;</th><th scope=col>&lt;chr&gt;</th><th scope=col>&lt;chr&gt;</th><th scope=col>&lt;chr&gt;</th><th scope=col>&lt;chr&gt;</th><th scope=col>&lt;chr&gt;</th><th scope=col>&lt;chr&gt;</th><th scope=col>&lt;chr&gt;</th><th scope=col>&lt;chr&gt;</th><th scope=col>&lt;chr&gt;</th></tr>\n",
              "</thead>\n",
              "<tbody>\n",
              "\t<tr><th scope=row>1</th><td>SP - São Paulo        </td><td>SP - São Paulo   </td><td>Não informado</td><td>Não informado</td><td>R$ 400,00  </td><td>0.5 Ton  </td><td>AGREGAMENTO</td><td>Não informado</td><td>Não informado</td><td>500 kg  </td><td>Não informado</td><td>Não Requer       </td></tr>\n",
              "\t<tr><th scope=row>2</th><td>RJ - Rio de Janeiro   </td><td>PE - Recife      </td><td>Não informado</td><td>Não informado</td><td>A combinar </td><td>3.87 Ton </td><td>COMPLEMENTO</td><td>Não informado</td><td>Não informado</td><td>3870 kg </td><td>2303Km       </td><td>Não Requer       </td></tr>\n",
              "\t<tr><th scope=row>3</th><td>PB - João Pessoa      </td><td>BA - Buerarema   </td><td>Não informado</td><td>Não informado</td><td>R$ 4.500,00</td><td>25 Ton   </td><td>COMPLETA   </td><td>Não informado</td><td>Não informado</td><td>25000 kg</td><td>1249Km       </td><td>R$ 3,60/Km rodado</td></tr>\n",
              "\t<tr><th scope=row>4</th><td>SP - Leme             </td><td>MG - Uberaba     </td><td>Não informado</td><td>Não informado</td><td>R$ 500,00  </td><td>0.35 Ton </td><td>COMPLEMENTO</td><td>Não informado</td><td>Não informado</td><td>350 kg  </td><td>294Km        </td><td>R$ 1,70/Km rodado</td></tr>\n",
              "\t<tr><th scope=row>5</th><td>SP - Campinas         </td><td>SP - São Paulo   </td><td>Não informado</td><td>Não informado</td><td>R$ 350,00  </td><td>3 Ton    </td><td>COMPLETA   </td><td>Não informado</td><td>Não informado</td><td>3000 kg </td><td>98Km         </td><td>R$ 3,56/Km rodado</td></tr>\n",
              "\t<tr><th scope=row>6</th><td>SP - Suzano           </td><td>MS - Campo Grande</td><td>Não informado</td><td>Não informado</td><td>R$ 2.500,00</td><td>0.11 Ton </td><td>COMPLETA   </td><td>Não informado</td><td>Não informado</td><td>110 kg  </td><td>1052Km       </td><td>R$ 2,38/Km rodado</td></tr>\n",
              "\t<tr><th scope=row>7</th><td>TO - Lagoa da Confusão</td><td>MG - Uberlândia  </td><td>Não informado</td><td>Não informado</td><td>R$ 150,00  </td><td>0.001 Ton</td><td>COMPLETA   </td><td>Não informado</td><td>Não informado</td><td>1 kg    </td><td>1103Km       </td><td>R$ 0,14/Km rodado</td></tr>\n",
              "\t<tr><th scope=row>8</th><td>SP - Vinhedo          </td><td>AC - Rio Branco  </td><td>Não informado</td><td>Não informado</td><td>R$ 9.000,00</td><td>6 Ton    </td><td>COMPLETA   </td><td>Não informado</td><td>Não informado</td><td>6000 kg </td><td>3416Km       </td><td>R$ 2,63/Km rodado</td></tr>\n",
              "\t<tr><th scope=row>9</th><td>GO - Formosa          </td><td>MG - Betim       </td><td>Não informado</td><td>Não informado</td><td>R$ 800,00  </td><td>0.35 Ton </td><td>COMPLEMENTO</td><td>Não informado</td><td>Não informado</td><td>350 kg  </td><td>785Km        </td><td>R$ 1,02/Km rodado</td></tr>\n",
              "\t<tr><th scope=row>10</th><td>PB - Campina Grande   </td><td>SP - Guarulhos   </td><td>Não informado</td><td>Não informado</td><td>R$ 7.800,00</td><td>27 Ton   </td><td>COMPLETA   </td><td>Não informado</td><td>Não informado</td><td>27000 kg</td><td>2602Km       </td><td>R$ 3,00/Km rodado</td></tr>\n",
              "</tbody>\n",
              "</table>\n"
            ]
          },
          "metadata": {
            "tags": []
          }
        }
      ]
    },
    {
      "cell_type": "markdown",
      "metadata": {
        "id": "z_pHbhvD-ajW"
      },
      "source": [
        "## Salvar arquivo csv"
      ]
    },
    {
      "cell_type": "code",
      "metadata": {
        "id": "f5j2AhYF8yLi"
      },
      "source": [
        "write.csv(truckpad,\"truckpad.csv\", row.names = FALSE)"
      ],
      "execution_count": 80,
      "outputs": []
    },
    {
      "cell_type": "markdown",
      "metadata": {
        "id": "t-WC8w6kBRY6"
      },
      "source": [
        "## Salvar workspace"
      ]
    },
    {
      "cell_type": "code",
      "metadata": {
        "id": "hfAk0ENu-puS"
      },
      "source": [
        "save.image(file='truckpad.RData')"
      ],
      "execution_count": 66,
      "outputs": []
    },
    {
      "cell_type": "markdown",
      "metadata": {
        "id": "gFOoft8RBhKI"
      },
      "source": [
        "## Carregar workspace"
      ]
    },
    {
      "cell_type": "code",
      "metadata": {
        "id": "1aYaM9umBOES"
      },
      "source": [
        "load(\"truckpad.RData\")"
      ],
      "execution_count": 79,
      "outputs": []
    },
    {
      "cell_type": "code",
      "metadata": {
        "colab": {
          "base_uri": "https://localhost:8080/",
          "height": 68
        },
        "id": "nvF9QwBkBkcB",
        "outputId": "93be67cd-7d4e-4d93-8327-9b991986eff2"
      },
      "source": [
        "ls() # listar variáveis"
      ],
      "execution_count": 71,
      "outputs": [
        {
          "output_type": "display_data",
          "data": {
            "text/plain": [
              " [1] \"carga_completa\"    \"carroceria\"        \"coleta_detalhes\"  \n",
              " [4] \"destino\"           \"destinos\"          \"detalhe\"          \n",
              " [7] \"detalhes\"          \"distancia\"         \"frete_km\"         \n",
              "[10] \"htmlPage\"          \"link\"              \"links_detalhes\"   \n",
              "[13] \"natureza_carga\"    \"origem\"            \"pagina\"           \n",
              "[16] \"peso\"              \"preco\"             \"preco_tonelada\"   \n",
              "[19] \"tamanho\"           \"tipo_carregamento\" \"truckpad\"         \n",
              "[22] \"veiculo\"          "
            ],
            "text/latex": "\\begin{enumerate*}\n\\item 'carga\\_completa'\n\\item 'carroceria'\n\\item 'coleta\\_detalhes'\n\\item 'destino'\n\\item 'destinos'\n\\item 'detalhe'\n\\item 'detalhes'\n\\item 'distancia'\n\\item 'frete\\_km'\n\\item 'htmlPage'\n\\item 'link'\n\\item 'links\\_detalhes'\n\\item 'natureza\\_carga'\n\\item 'origem'\n\\item 'pagina'\n\\item 'peso'\n\\item 'preco'\n\\item 'preco\\_tonelada'\n\\item 'tamanho'\n\\item 'tipo\\_carregamento'\n\\item 'truckpad'\n\\item 'veiculo'\n\\end{enumerate*}\n",
            "text/markdown": "1. 'carga_completa'\n2. 'carroceria'\n3. 'coleta_detalhes'\n4. 'destino'\n5. 'destinos'\n6. 'detalhe'\n7. 'detalhes'\n8. 'distancia'\n9. 'frete_km'\n10. 'htmlPage'\n11. 'link'\n12. 'links_detalhes'\n13. 'natureza_carga'\n14. 'origem'\n15. 'pagina'\n16. 'peso'\n17. 'preco'\n18. 'preco_tonelada'\n19. 'tamanho'\n20. 'tipo_carregamento'\n21. 'truckpad'\n22. 'veiculo'\n\n\n",
            "text/html": [
              "<style>\n",
              ".list-inline {list-style: none; margin:0; padding: 0}\n",
              ".list-inline>li {display: inline-block}\n",
              ".list-inline>li:not(:last-child)::after {content: \"\\00b7\"; padding: 0 .5ex}\n",
              "</style>\n",
              "<ol class=list-inline><li>'carga_completa'</li><li>'carroceria'</li><li>'coleta_detalhes'</li><li>'destino'</li><li>'destinos'</li><li>'detalhe'</li><li>'detalhes'</li><li>'distancia'</li><li>'frete_km'</li><li>'htmlPage'</li><li>'link'</li><li>'links_detalhes'</li><li>'natureza_carga'</li><li>'origem'</li><li>'pagina'</li><li>'peso'</li><li>'preco'</li><li>'preco_tonelada'</li><li>'tamanho'</li><li>'tipo_carregamento'</li><li>'truckpad'</li><li>'veiculo'</li></ol>\n"
            ]
          },
          "metadata": {
            "tags": []
          }
        }
      ]
    },
    {
      "cell_type": "code",
      "metadata": {
        "id": "Wk87lbbcBu7A"
      },
      "source": [
        ""
      ],
      "execution_count": null,
      "outputs": []
    }
  ]
}